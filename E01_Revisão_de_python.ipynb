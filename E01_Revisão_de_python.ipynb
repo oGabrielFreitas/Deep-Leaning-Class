{
  "nbformat": 4,
  "nbformat_minor": 0,
  "metadata": {
    "colab": {
      "name": "E01 - Revisão de python.ipynb",
      "provenance": [],
      "collapsed_sections": []
    },
    "kernelspec": {
      "name": "python3",
      "display_name": "Python 3"
    }
  },
  "cells": [
    {
      "cell_type": "code",
      "metadata": {
        "id": "ztAdi69QIZja",
        "outputId": "8f8d7643-caa6-4980-ebd2-7cb3170f1e1a",
        "colab": {
          "base_uri": "https://localhost:8080/"
        }
      },
      "source": [
        "from math import cos as cos1\n",
        "from numpy import cos as cos2\n",
        "\n",
        "#Calculo de cos1 e cos2\n",
        "a = cos1(1.5)\n",
        "b = cos2(1.5)\n",
        "\n",
        "#Difereça entre cos1 e cos2\n",
        "c=a-b\n",
        "\n",
        "print(c)"
      ],
      "execution_count": null,
      "outputs": [
        {
          "output_type": "stream",
          "text": [
            "0.0\n"
          ],
          "name": "stdout"
        }
      ]
    },
    {
      "cell_type": "markdown",
      "metadata": {
        "id": "M6hXbxG5MzMX"
      },
      "source": [
        "Como a função cosseno é uma função trigonométrica básica\n",
        "independente do módulo, não existe uma diferença no cálculo\n",
        "desta, então, obviamente a diferença entre a e b é zero."
      ]
    },
    {
      "cell_type": "code",
      "metadata": {
        "id": "zbHBwYd7LSgo",
        "outputId": "de34071c-5aae-4b08-acc5-fa49c318df77",
        "colab": {
          "base_uri": "https://localhost:8080/"
        }
      },
      "source": [
        "import numpy as np\n",
        "\n",
        "#Array nativo do python\n",
        "arrnt = [1,2,3]\n",
        "\n",
        "#Array do numpy\n",
        "arrnp = np.array((1,2,3))\n",
        "\n",
        "#Multiplicando-os por um inteiro \n",
        "amult_nativo = 4 * arrnt\n",
        "amult_numpy = 4 * arrnp \n",
        "\n",
        "print(\"Array nativo multiplicado:\",amult_nativo,\"\\nArray numpy multiplicado: \",amult_numpy)"
      ],
      "execution_count": null,
      "outputs": [
        {
          "output_type": "stream",
          "text": [
            "Array nativo multiplicado: [1, 2, 3, 1, 2, 3, 1, 2, 3, 1, 2, 3] \n",
            "Array numpy multiplicado:  [ 4  8 12]\n"
          ],
          "name": "stdout"
        }
      ]
    },
    {
      "cell_type": "markdown",
      "metadata": {
        "id": "3bdg3srJNGu9"
      },
      "source": [
        "Quando se utilizada uma lista ou array nativo do python, basicamente cada item é repetido N vezes, gerando novos itens para a lista.\n",
        "\n",
        "Porém, quando se é utilizado um array do numpy, o item da lista é multplicado pelo escalar, formando uma lista com o mesmo numero de itens, porém com eles multiplicados pelo inteiro."
      ]
    },
    {
      "cell_type": "code",
      "metadata": {
        "id": "cQBsRFnbgPx9",
        "outputId": "5507631f-85e9-43f5-eb3a-d2f0d4e397f5",
        "colab": {
          "base_uri": "https://localhost:8080/"
        }
      },
      "source": [
        "import numpy as np\n",
        "\n",
        "#a = np.arange(500).reshape(100, 5)\n",
        "\n",
        "#criação de uma matriz vazia, com 100 linhas e 5 colunas \n",
        "a = np.zeros((100,5))\n",
        "\n",
        "#calculo de i * j em a\n",
        "for i in range(len(a)):\n",
        "  for j in range(len(a[i])):\n",
        "    a[i][j] = i*j\n",
        "\n",
        "print(a)"
      ],
      "execution_count": null,
      "outputs": [
        {
          "output_type": "stream",
          "text": [
            "[[  0.   0.   0.   0.   0.]\n",
            " [  0.   1.   2.   3.   4.]\n",
            " [  0.   2.   4.   6.   8.]\n",
            " [  0.   3.   6.   9.  12.]\n",
            " [  0.   4.   8.  12.  16.]\n",
            " [  0.   5.  10.  15.  20.]\n",
            " [  0.   6.  12.  18.  24.]\n",
            " [  0.   7.  14.  21.  28.]\n",
            " [  0.   8.  16.  24.  32.]\n",
            " [  0.   9.  18.  27.  36.]\n",
            " [  0.  10.  20.  30.  40.]\n",
            " [  0.  11.  22.  33.  44.]\n",
            " [  0.  12.  24.  36.  48.]\n",
            " [  0.  13.  26.  39.  52.]\n",
            " [  0.  14.  28.  42.  56.]\n",
            " [  0.  15.  30.  45.  60.]\n",
            " [  0.  16.  32.  48.  64.]\n",
            " [  0.  17.  34.  51.  68.]\n",
            " [  0.  18.  36.  54.  72.]\n",
            " [  0.  19.  38.  57.  76.]\n",
            " [  0.  20.  40.  60.  80.]\n",
            " [  0.  21.  42.  63.  84.]\n",
            " [  0.  22.  44.  66.  88.]\n",
            " [  0.  23.  46.  69.  92.]\n",
            " [  0.  24.  48.  72.  96.]\n",
            " [  0.  25.  50.  75. 100.]\n",
            " [  0.  26.  52.  78. 104.]\n",
            " [  0.  27.  54.  81. 108.]\n",
            " [  0.  28.  56.  84. 112.]\n",
            " [  0.  29.  58.  87. 116.]\n",
            " [  0.  30.  60.  90. 120.]\n",
            " [  0.  31.  62.  93. 124.]\n",
            " [  0.  32.  64.  96. 128.]\n",
            " [  0.  33.  66.  99. 132.]\n",
            " [  0.  34.  68. 102. 136.]\n",
            " [  0.  35.  70. 105. 140.]\n",
            " [  0.  36.  72. 108. 144.]\n",
            " [  0.  37.  74. 111. 148.]\n",
            " [  0.  38.  76. 114. 152.]\n",
            " [  0.  39.  78. 117. 156.]\n",
            " [  0.  40.  80. 120. 160.]\n",
            " [  0.  41.  82. 123. 164.]\n",
            " [  0.  42.  84. 126. 168.]\n",
            " [  0.  43.  86. 129. 172.]\n",
            " [  0.  44.  88. 132. 176.]\n",
            " [  0.  45.  90. 135. 180.]\n",
            " [  0.  46.  92. 138. 184.]\n",
            " [  0.  47.  94. 141. 188.]\n",
            " [  0.  48.  96. 144. 192.]\n",
            " [  0.  49.  98. 147. 196.]\n",
            " [  0.  50. 100. 150. 200.]\n",
            " [  0.  51. 102. 153. 204.]\n",
            " [  0.  52. 104. 156. 208.]\n",
            " [  0.  53. 106. 159. 212.]\n",
            " [  0.  54. 108. 162. 216.]\n",
            " [  0.  55. 110. 165. 220.]\n",
            " [  0.  56. 112. 168. 224.]\n",
            " [  0.  57. 114. 171. 228.]\n",
            " [  0.  58. 116. 174. 232.]\n",
            " [  0.  59. 118. 177. 236.]\n",
            " [  0.  60. 120. 180. 240.]\n",
            " [  0.  61. 122. 183. 244.]\n",
            " [  0.  62. 124. 186. 248.]\n",
            " [  0.  63. 126. 189. 252.]\n",
            " [  0.  64. 128. 192. 256.]\n",
            " [  0.  65. 130. 195. 260.]\n",
            " [  0.  66. 132. 198. 264.]\n",
            " [  0.  67. 134. 201. 268.]\n",
            " [  0.  68. 136. 204. 272.]\n",
            " [  0.  69. 138. 207. 276.]\n",
            " [  0.  70. 140. 210. 280.]\n",
            " [  0.  71. 142. 213. 284.]\n",
            " [  0.  72. 144. 216. 288.]\n",
            " [  0.  73. 146. 219. 292.]\n",
            " [  0.  74. 148. 222. 296.]\n",
            " [  0.  75. 150. 225. 300.]\n",
            " [  0.  76. 152. 228. 304.]\n",
            " [  0.  77. 154. 231. 308.]\n",
            " [  0.  78. 156. 234. 312.]\n",
            " [  0.  79. 158. 237. 316.]\n",
            " [  0.  80. 160. 240. 320.]\n",
            " [  0.  81. 162. 243. 324.]\n",
            " [  0.  82. 164. 246. 328.]\n",
            " [  0.  83. 166. 249. 332.]\n",
            " [  0.  84. 168. 252. 336.]\n",
            " [  0.  85. 170. 255. 340.]\n",
            " [  0.  86. 172. 258. 344.]\n",
            " [  0.  87. 174. 261. 348.]\n",
            " [  0.  88. 176. 264. 352.]\n",
            " [  0.  89. 178. 267. 356.]\n",
            " [  0.  90. 180. 270. 360.]\n",
            " [  0.  91. 182. 273. 364.]\n",
            " [  0.  92. 184. 276. 368.]\n",
            " [  0.  93. 186. 279. 372.]\n",
            " [  0.  94. 188. 282. 376.]\n",
            " [  0.  95. 190. 285. 380.]\n",
            " [  0.  96. 192. 288. 384.]\n",
            " [  0.  97. 194. 291. 388.]\n",
            " [  0.  98. 196. 294. 392.]\n",
            " [  0.  99. 198. 297. 396.]]\n"
          ],
          "name": "stdout"
        }
      ]
    },
    {
      "cell_type": "markdown",
      "metadata": {
        "id": "oa96HZbHYhy7"
      },
      "source": [
        "Para esta abordagem, decidi primeiramente gerar uma matriz com o numero de linhas e colunas requisitadas, e posteriormente realizar o calculo de i * j para cada linha da matriz dentro do laço for, como é apresentado no bloco de código acima."
      ]
    },
    {
      "cell_type": "code",
      "metadata": {
        "id": "vIn14EhELCim",
        "outputId": "5883ce4b-9fe6-485a-e708-f46dbe780d1b",
        "colab": {
          "base_uri": "https://localhost:8080/",
          "height": 281
        }
      },
      "source": [
        "from numpy import *\n",
        "import matplotlib.pyplot as plt\n",
        "\n",
        "#Definindo a função y\n",
        "def y(x):\n",
        "    return 1/(1 + exp(-x))\n",
        "\n",
        "if __name__ == \"__main__\":\n",
        "    \n",
        "    #Definição de um range para y\n",
        "    x = linspace(-5,5,100)\n",
        "    \n",
        "    #Setar x e y, estilo do gráfico, e legendas\n",
        "    plt.plot(x, y(x), 'o--r',label='y=1/(1+e^(-x))')\n",
        "    \n",
        "    #Titulo do plot\n",
        "    plt.title('Gráfico de F(x):')\n",
        "\n",
        "    #Print legenda (label)\n",
        "    plt.legend()\n",
        "\n",
        "    #Trazer para a tela\n",
        "    plt.show()\n"
      ],
      "execution_count": null,
      "outputs": [
        {
          "output_type": "display_data",
          "data": {
            "image/png": "[encoded data removed]",
            "text/plain": [
              "<Figure size 432x288 with 1 Axes>"
            ]
          },
          "metadata": {
            "tags": [],
            "needs_background": "light"
          }
        }
      ]
    },
    {
      "cell_type": "markdown",
      "metadata": {
        "id": "aQ5uf2rBccHp"
      },
      "source": [
        "Creio que para a aplicação acima não tive problemas para plotar a função sigmoide, segui o exemplo realizado no video do exercício, acabei adicionando algumas customizações, como por exemplo, estilo do gráfico ('o--r'), para exercitar um pouco mais."
      ]
    },
    {
      "cell_type": "code",
      "metadata": {
        "id": "Qi9K8CNtSF9l",
        "outputId": "d34b562b-4f59-46b9-81e3-7327ae37aed1",
        "colab": {
          "base_uri": "https://localhost:8080/"
        }
      },
      "source": [
        "import math as m\n",
        "from numpy import random as rand\n",
        "\n",
        "class Retangulo: \n",
        "    #Construtor\n",
        "    def __init__(self, L, A):\n",
        "        self.L = L\n",
        "        self.A = A\n",
        "\n",
        "    #Função que calcula a area do Retangulo    \n",
        "    def area(self):\n",
        "        return (self.L * self.A)\n",
        "\n",
        "    #Função de print do objeto\n",
        "    def print(self):\n",
        "        print(\"Base:\", self.L, \"Altura:\", self.A)\n",
        "\n",
        "class Circulo: \n",
        "    #Construtor\n",
        "    def __init__(self, R):\n",
        "        self.R = R\n",
        "\n",
        "    #Função que calcula a area do Circulo    \n",
        "    def area(self):\n",
        "        return ((self.R**2 * m.pi)/2)\n",
        "\n",
        "    #Função de print do objeto\n",
        "    def print(self):\n",
        "        print(\"Raio:\", self.R)\n",
        "\n",
        "class Triangulo: \n",
        "    #Construtor\n",
        "    def __init__(self, B, H):\n",
        "        self.B = B\n",
        "        self.H = H\n",
        "\n",
        "    #Função que calcula a area do Triangulo    \n",
        "    def area(self):\n",
        "        return ((self.B * self.H)/2)\n",
        "\n",
        "    #Função de print do objeto\n",
        "    def print(self):\n",
        "        print(\"Base:\", self.B, \"Altura:\", self.H)\n",
        "\n",
        "if __name__ == \"__main__\":\n",
        "    \n",
        "    #Lista que irá conter os objetos\n",
        "    randomlist = []\n",
        "\n",
        "    for i in range(0,20):\n",
        "        #Cria os objetos\n",
        "        tmpR = Retangulo(rand.randint(1,10),rand.randint(1,10)); \n",
        "        tmpC = Circulo(rand.randint(1,10));\n",
        "        tmpT = Triangulo(rand.randint(1,10),rand.randint(1,10));\n",
        "\n",
        "        #Adiciona objetos a lista\n",
        "        randomlist.append(tmpR)\n",
        "        randomlist.append(tmpC)\n",
        "        randomlist.append(tmpT)\n",
        "     \n",
        "    #Embaralhamento da lista de objetos\n",
        "    rand.shuffle(randomlist)\n",
        "\n",
        "    #Variavel que será utilizada para o somatório das áreas\n",
        "    sum = 0\n",
        "\n",
        "    #Realizando a soma total de todas as áreas\n",
        "    for i in range(len(randomlist)):  \n",
        "        sum += randomlist[i].area()\n",
        "\n",
        "    print(\"O somatório total das áreas é: {:.2f}\".format(sum));"
      ],
      "execution_count": null,
      "outputs": [
        {
          "output_type": "stream",
          "text": [
            "O somatório total das áreas é: 1643.45\n"
          ],
          "name": "stdout"
        }
      ]
    },
    {
      "cell_type": "markdown",
      "metadata": {
        "id": "atWvvZEISVHL"
      },
      "source": [
        "Para a aplicação acima não encontrei grandes dificuldades, creio que tenha atendido tudo o que foi solicitado."
      ]
    }
  ]
}