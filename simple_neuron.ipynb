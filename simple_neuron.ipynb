{
  "nbformat": 4,
  "nbformat_minor": 0,
  "metadata": {
    "colab": {
      "name": "simple_neuron.ipynb",
      "provenance": []
    },
    "kernelspec": {
      "name": "python3",
      "display_name": "Python 3"
    }
  },
  "cells": [
    {
      "cell_type": "code",
      "metadata": {
        "id": "wqec2VE2xWhz"
      },
      "source": [
        "import numpy as np\n",
        "from matplotlib import pyplot as plt"
      ],
      "execution_count": null,
      "outputs": []
    },
    {
      "cell_type": "code",
      "metadata": {
        "id": "JrIxfeaHxG-b"
      },
      "source": [
        "def sigmoid(x):\n",
        "  return 1.0 / (1 + np.exp(-x))"
      ],
      "execution_count": null,
      "outputs": []
    },
    {
      "cell_type": "code",
      "metadata": {
        "id": "ivEWxX19xchW"
      },
      "source": [
        "x = np.linspace(-5.0, 5.0)\n",
        "y = sigmoid(x)"
      ],
      "execution_count": null,
      "outputs": []
    },
    {
      "cell_type": "code",
      "metadata": {
        "id": "brPHGi6YyIkQ",
        "colab": {
          "base_uri": "https://localhost:8080/"
        },
        "outputId": "c6411409-a32e-4e10-bce5-b5509bb6840a"
      },
      "source": [
        "plt.plot(x,y)"
      ],
      "execution_count": null,
      "outputs": [
        {
          "output_type": "execute_result",
          "data": {
            "text/plain": [
              "[<matplotlib.lines.Line2D at 0x7f6b9474c0b8>]"
            ]
          },
          "metadata": {
            "tags": []
          },
          "execution_count": 4
        },
        {
          "output_type": "display_data",
          "data": {
            "image/png": "[encoded data removed]",
            "text/plain": [
              "<Figure size 432x288 with 1 Axes>"
            ]
          },
          "metadata": {
            "tags": [],
            "needs_background": "light"
          }
        }
      ]
    },
    {
      "cell_type": "code",
      "metadata": {
        "id": "Zc5aYxpPyXl-"
      },
      "source": [
        "class Neuron:\n",
        "  def __init__(self, input_size=5):\n",
        "    self.w = np.random.random(input_size)\n",
        "    self.b = np.random.random()\n",
        "  def compute(self, inputs):\n",
        "    s = np.dot(self.w,inputs) + self.b\n",
        "    z = sigmoid(s)\n",
        "    return z"
      ],
      "execution_count": null,
      "outputs": []
    },
    {
      "cell_type": "code",
      "metadata": {
        "id": "-p45M-jRzFEQ",
        "colab": {
          "base_uri": "https://localhost:8080/"
        },
        "outputId": "ad1ac93d-2eb0-4594-f07c-fab7ebd24708"
      },
      "source": [
        "n = Neuron()\n",
        "n.compute([1,2,3,4,5])"
      ],
      "execution_count": null,
      "outputs": [
        {
          "output_type": "execute_result",
          "data": {
            "text/plain": [
              "0.9994532543031159"
            ]
          },
          "metadata": {
            "tags": []
          },
          "execution_count": 6
        }
      ]
    }
  ]
}