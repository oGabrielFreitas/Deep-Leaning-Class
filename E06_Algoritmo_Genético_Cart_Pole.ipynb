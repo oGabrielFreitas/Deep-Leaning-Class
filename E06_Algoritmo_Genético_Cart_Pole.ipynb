{
  "nbformat": 4,
  "nbformat_minor": 0,
  "metadata": {
    "colab": {
      "name": "E06 Algoritmo Genético Cart-Pole.ipynb",
      "provenance": [],
      "collapsed_sections": []
    },
    "kernelspec": {
      "name": "python3",
      "display_name": "Python 3"
    }
  },
  "cells": [
    {
      "cell_type": "code",
      "metadata": {
        "id": "FUbWip5jBmAM",
        "cellView": "form"
      },
      "source": [
        "#@title\n",
        "%%capture\n",
        "!pip install gym pyvirtualdisplay\n",
        "!apt-get install -y xvfb python-opengl ffmpeg\n",
        "!apt-get install build-essential python-dev swig python-pygame\n",
        "!apt-get update\n",
        "!apt-get install cmake\n",
        "!pip install --upgrade setuptools\n",
        "!pip install ez_setup\n",
        "!pip install gym\n",
        "!pip install box2d-py\n",
        "\n",
        "import gym\n",
        "from gym.wrappers import Monitor\n",
        "import glob\n",
        "import io\n",
        "import base64\n",
        "from IPython.display import HTML, clear_output, YouTubeVideo\n",
        "from pyvirtualdisplay import Display\n",
        "from IPython import display as ipythondisplay\n",
        "\n",
        "display = Display(visible=0, size=(1400, 900))\n",
        "display.start()\n",
        "\n",
        "\"\"\"\n",
        "Utility functions to enable video recording of gym environment \n",
        "and displaying it.\n",
        "To enable video, just do \"env = wrap_env(env)\"\"\n",
        "\"\"\"\n",
        "\n",
        "def show_video():\n",
        "  mp4list = glob.glob('video/*.mp4')\n",
        "  if len(mp4list) > 0:\n",
        "    mp4 = mp4list[0]\n",
        "    video = io.open(mp4, 'r+b').read()\n",
        "    encoded = base64.b64encode(video)\n",
        "    ipythondisplay.display(HTML(data='''<video alt=\"test\" autoplay \n",
        "                loop controls style=\"height: 400px;\">\n",
        "                <source src=\"data:video/mp4;base64,{0}\" type=\"video/mp4\" />\n",
        "             </video>'''.format(encoded.decode('ascii'))))\n",
        "  else: \n",
        "    print(\"Could not find video\")\n",
        "    \n",
        "\n",
        "def wrap_env(env):\n",
        "  env = Monitor(env, './video', force=True)\n",
        "  return env"
      ],
      "execution_count": 1,
      "outputs": []
    },
    {
      "cell_type": "markdown",
      "metadata": {
        "id": "C4XavvvHBO9e"
      },
      "source": [
        "# E06 Algoritmo Genético Cart-Pole\n",
        "\n",
        "Neste exercício você vai usar o que aprendeu sobre algoritmos genéticos e neuro-evolução para implementar um algoritmo genético capaz de evoluir os parâmetros de uma rede neural que deverá controlar um sistema de pêndulo invertido.\n",
        "\n",
        "Em inglês conhecido como _cart-pole_, o pêndulo invertido é um problema clássico muito usado para fins didáticos, principalmente em disciplinas ligadas à modelagem e controle de sistemas dinâmicos em engenharia.\n",
        "\n",
        "Para entender melhor o problema, veja o vídeo abaixo, onde um aluno de graduação apresenta seu projeto de TCC:"
      ]
    },
    {
      "cell_type": "code",
      "metadata": {
        "colab": {
          "base_uri": "https://localhost:8080/",
          "height": 321
        },
        "id": "5lqvckCw8HIK",
        "outputId": "1201fd88-b391-406f-83fd-d62c47b4b3a7"
      },
      "source": [
        "YouTubeVideo('Pf79Z32B5Kk')"
      ],
      "execution_count": 2,
      "outputs": [
        {
          "output_type": "execute_result",
          "data": {
            "text/html": [
              "\n",
              "        <iframe\n",
              "            width=\"400\"\n",
              "            height=\"300\"\n",
              "            src=\"https://www.youtube.com/embed/Pf79Z32B5Kk\"\n",
              "            frameborder=\"0\"\n",
              "            allowfullscreen\n",
              "        ></iframe>\n",
              "        "
            ],
            "text/plain": [
              "<IPython.lib.display.YouTubeVideo at 0x7f82282a3be0>"
            ],
            "image/jpeg": "[encoded data removed]"
          },
          "metadata": {
            "tags": []
          },
          "execution_count": 2
        }
      ]
    },
    {
      "cell_type": "markdown",
      "metadata": {
        "id": "09stoaYjFCXr"
      },
      "source": [
        "## Introdução\n",
        "\n",
        "Neste trabalho, você tomará como ponto de partida o [código disponível neste link aqui](https://colab.research.google.com/drive/1X68CYfPYcKN7qvPfOlkgGURP6E0PLE5X?usp=sharing). De forma muito semelhante ao código do link acima, aqui também utilizaremos um ambiente do OpenAI Gym - só que desta vez, ao invés de tentarmos aterrizar foquetes, tentaremos equilibrar o pêndulo.\n",
        "\n",
        "Veja o exemplo de código abaixo:"
      ]
    },
    {
      "cell_type": "code",
      "metadata": {
        "colab": {
          "base_uri": "https://localhost:8080/",
          "height": 438
        },
        "id": "jenqKbWhHAIx",
        "outputId": "34f3ff94-7c99-406d-dace-f627864dd0ad"
      },
      "source": [
        "# Aqui importamos o NumPy para\n",
        "# gerar as ações aleatórias\n",
        "# que precisaremos mais abaixo\n",
        "\n",
        "import numpy as np\n",
        "\n",
        "# Esta linha de código cria o ambiente\n",
        "# usando o OpenAI Gym. Note que o comando\n",
        "# está usando a função wrap_env() que serve\n",
        "# para capturar as imagens e gerar um vídeo\n",
        "# que permita observar a saída gráfica\n",
        "# aqui no Google Colab.\n",
        "env = wrap_env(gym.make('CartPole-v0'))\n",
        "\n",
        "# Essa variável usaremos para somar o\n",
        "# reforço.\n",
        "R = 0.0\n",
        "\n",
        "# Aqui resetamos o ambiente\n",
        "obs = env.reset()\n",
        "\n",
        "# Laço principal\n",
        "while True:\n",
        "\n",
        "  # Escolhemos uma ação aleatória. São\n",
        "  # possíveis duas ações: ação 0 ou ação 1\n",
        "  action = np.random.randint(0,2)\n",
        "\n",
        "  # Rodamos um passo da simulação, enviando\n",
        "  # a ação escolhida e recebendo como retorno\n",
        "  # uma tupla de quatro elementos. O primeiro\n",
        "  # elemento é o vetor de observações, que tem\n",
        "  # tamanho 4. A variável reward é o reforço\n",
        "  # instantâneo referente a este passo (número\n",
        "  # escalar). A variável done é True quando o\n",
        "  # episódio encerrou. Por fim, info retorna\n",
        "  # algumas informações sobre a simulação.\n",
        "  obs, reward, done, info = env.step(action)\n",
        "\n",
        "  # Essa linha de código renderiza os gráficos\n",
        "  # gerando mais um quadro para o vídeo que\n",
        "  # será gerado ao final\n",
        "  env.render()\n",
        "\n",
        "  # Aqui somamos os reforços de cada quadro.\n",
        "  R += reward\n",
        "\n",
        "  # Se done for True (verdadeiro) então\n",
        "  # encerramos esse laço de simulação.\n",
        "  if done:\n",
        "    break\n",
        "\n",
        "# Aqui imprimimos o reforço acumulado\n",
        "print(R)\n",
        "\n",
        "# Encerramos o ambiente\n",
        "env.close()\n",
        "\n",
        "# Mostramos o vídeo gerado\n",
        "show_video()"
      ],
      "execution_count": 3,
      "outputs": [
        {
          "output_type": "stream",
          "text": [
            "31.0\n"
          ],
          "name": "stdout"
        },
        {
          "output_type": "display_data",
          "data": {
            "text/html": [
              "<video alt=\"test\" autoplay \n",
              "                loop controls style=\"height: 400px;\">\n",
              "                <source src=\"data:video/mp4;base64,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\" type=\"video/mp4\" />\n",
              "             </video>"
            ],
            "text/plain": [
              "<IPython.core.display.HTML object>"
            ]
          },
          "metadata": {
            "tags": []
          }
        }
      ]
    },
    {
      "cell_type": "markdown",
      "metadata": {
        "id": "V8SOKcivJQON"
      },
      "source": [
        "## Instruções\n",
        "\n",
        "Note que em termos dos formatos das entradas e saídas, este problema é muito semelhante ao do foguete. As diferenças principais se referem aos números: este problema conta com quatro variáveis observadas (entradas da rede neural) e com duas opções de ações (saídas da rede neural).\n",
        "\n",
        "Para resolver este problema, traga para cá o código de neuro-evolução que pousava o foguete, alterando-o conforme necessário para que desta vez faça o equilíbrio do pêndulo.\n",
        "\n",
        "A rede neural deverá possuir 4 entradas, 10 neurônios na camada escondida e 2 neurônios de saída. As entradas devem ser exatamente o vetor de observações da simulação (tamanho 4) e na saída, a maior deve ser considerada a ação escolhida.\n",
        "\n",
        "Ao final de seu código, para passar no teste, você deve garantir que a rede neural esteja gravada na variável global de nome **n**."
      ]
    },
    {
      "cell_type": "code",
      "metadata": {
        "id": "alnQdaciPn_i"
      },
      "source": [
        "import numpy as np\n",
        "import gym\n",
        "from matplotlib import pyplot as plt"
      ],
      "execution_count": 4,
      "outputs": []
    },
    {
      "cell_type": "code",
      "metadata": {
        "id": "KRpNZweHK_FR"
      },
      "source": [
        "class Net():\n",
        "  def __init__(self, chromosome):\n",
        "    # 4 => 10 => 2\n",
        "    self.w1 = chromosome[:40].reshape((10,4))\n",
        "    self.b1 = chromosome[40:50].reshape((10,))\n",
        "    self.w2 = chromosome[50:70].reshape((2,10))\n",
        "    self.b2 = chromosome[70:].reshape((2,))\n",
        "  def forward(self, x):\n",
        "    s1 = np.dot(self.w1, x) + self.b1\n",
        "    z1 = s1 * (s1 > 0.0)\n",
        "    s2 = np.dot(self.w2, z1) + self.b2\n",
        "    z2 = s2 * (s2 > 0.0)\n",
        "    return z2.argmax()"
      ],
      "execution_count": 5,
      "outputs": []
    },
    {
      "cell_type": "code",
      "metadata": {
        "id": "aDbyYSFGpf4t"
      },
      "source": [
        "def create_individual():\n",
        "  ''' Esta função cria o genótipo de um indivíduo\n",
        "      completamente aleatório\n",
        "  '''\n",
        "  N = 4*10+10+10*2+2\n",
        "  chromosome = np.random.normal(0, 10, size=(N,))\n",
        "  return chromosome, None"
      ],
      "execution_count": 6,
      "outputs": []
    },
    {
      "cell_type": "code",
      "metadata": {
        "id": "TKuUmtwIphRS"
      },
      "source": [
        "def create_population(size):\n",
        "  ''' Aqui geramos uma população inteira\n",
        "  '''\n",
        "  # Nossa população será uma lista\n",
        "  population = list()\n",
        "  # Nesse laço criamos cada indivíduo\n",
        "  # e adicionamos à população\n",
        "  for _ in range(size):\n",
        "    population.append(create_individual())\n",
        "  return population"
      ],
      "execution_count": 7,
      "outputs": []
    },
    {
      "cell_type": "code",
      "metadata": {
        "id": "WC-emF2jpkOY"
      },
      "source": [
        "def get_phenotype(chromosome):\n",
        "  ''' Esta função gera a imagem a partir do\n",
        "      gene.\n",
        "  '''\n",
        "  n = Net(chromosome)\n",
        "  return n"
      ],
      "execution_count": 8,
      "outputs": []
    },
    {
      "cell_type": "code",
      "metadata": {
        "id": "zt3wK4XzplvN"
      },
      "source": [
        "def fitness(n):\n",
        "  R = 0.0\n",
        "  trials = 6\n",
        "  env = gym.make('CartPole-v0')\n",
        "  for _ in range(trials):\n",
        "    obs = env.reset()\n",
        "    while True:\n",
        "      action = n.forward(obs)\n",
        "      obs, reward, done, info = env.step(action)\n",
        "      R += reward\n",
        "      if done:\n",
        "        break\n",
        "  env.close()\n",
        "  return (10000.0 + R/trials) / 10000.0"
      ],
      "execution_count": 9,
      "outputs": []
    },
    {
      "cell_type": "code",
      "metadata": {
        "id": "z-SJPR3cpoAx"
      },
      "source": [
        "def crossover2point(chr1, chr2):\n",
        "  ''' Esta função combina os genes de\n",
        "      dois indivíduos, gerando um novo\n",
        "      cromossomo\n",
        "  '''\n",
        "  N = len(chr1)\n",
        "  idx1 = np.random.randint(0,N)\n",
        "  idx2 = np.random.randint(0,N)\n",
        "  if idx1 > idx2:\n",
        "    idx1, idx2 = idx2, idx1\n",
        "  new_chr1 = np.concatenate((chr1[0:idx1], chr2[idx1:idx2], chr1[idx2:]))\n",
        "  new_chr2 = np.concatenate((chr2[0:idx1], chr1[idx1:idx2], chr2[idx2:]))\n",
        "  return new_chr1, new_chr2"
      ],
      "execution_count": 10,
      "outputs": []
    },
    {
      "cell_type": "code",
      "metadata": {
        "id": "lEEJNyBwptEk"
      },
      "source": [
        "def mutation(chr, p):\n",
        "  ''' Esta função aplica a mutação em um dos\n",
        "      genes de nosso cromossomo\n",
        "  '''\n",
        "  N = len(chr)\n",
        "  total = int(np.random.normal(p*N, p*N))\n",
        "  if total < 0:\n",
        "    total = 0\n",
        "  elif total > N:\n",
        "    total = N\n",
        "  for _ in range(total):\n",
        "    idx = np.random.randint(0, N)\n",
        "    if np.random.rand() > 0.5:\n",
        "      chr[idx] += np.random.normal(0, 1)\n",
        "    else:\n",
        "      chr[idx] = np.random.normal(0, 10)\n",
        "  return chr"
      ],
      "execution_count": 11,
      "outputs": []
    },
    {
      "cell_type": "code",
      "metadata": {
        "id": "CEo4aQ1tpvl9"
      },
      "source": [
        "def compute_fitness(population):\n",
        "  ''' Esta função avalia cada indivíduo\n",
        "      e adiciona o seu score.\n",
        "  '''\n",
        "  scored = list()\n",
        "  for chromosome, score in population:\n",
        "    n = get_phenotype(chromosome)\n",
        "    score = fitness(n)\n",
        "    scored.append((chromosome, score))\n",
        "  scored.sort(key=lambda x:x[1], reverse=True)\n",
        "  return scored"
      ],
      "execution_count": 12,
      "outputs": []
    },
    {
      "cell_type": "code",
      "metadata": {
        "id": "lExO8eGKpw54"
      },
      "source": [
        "def roulette(population):\n",
        "  fitnesses = np.array([np.exp(fitness) \\\n",
        "                       for _, fitness in population])\n",
        "  total = np.sum(fitnesses)\n",
        "  fitnesses /= total\n",
        "  choice = np.random.rand()\n",
        "  subtotal = 0\n",
        "  idx = 0\n",
        "  for f in fitnesses:\n",
        "    subtotal += f\n",
        "    if subtotal >= choice or idx == len(fitnesses)-1:\n",
        "      break\n",
        "    idx += 1\n",
        "  return idx"
      ],
      "execution_count": 13,
      "outputs": []
    },
    {
      "cell_type": "code",
      "metadata": {
        "id": "XpunP5umpyJG"
      },
      "source": [
        "def new_generation(population, size, mutation_rate):\n",
        "  new_population = list()\n",
        "  while len(new_population) < size:\n",
        "    idx1 = roulette(population)\n",
        "    idx2 = roulette(population)\n",
        "    if idx1 == idx2:\n",
        "      continue\n",
        "    chr1, _ = population[idx1]\n",
        "    chr2, _ = population[idx2]\n",
        "    new_chr1, new_chr2 = crossover2point(chr1, chr2)\n",
        "    new_chr1 = mutation(new_chr1, mutation_rate)\n",
        "    new_chr2 = mutation(new_chr2, mutation_rate)\n",
        "    new_population.append((new_chr1, None))\n",
        "    new_population.append((new_chr2, None))\n",
        "  return new_population[:size]"
      ],
      "execution_count": 14,
      "outputs": []
    },
    {
      "cell_type": "code",
      "metadata": {
        "id": "u0BQhIj6pzmn"
      },
      "source": [
        "def genalg(pop_size, elite_size, \\\n",
        "           epochs, mutation_rate):\n",
        "  x = list()\n",
        "  y = list()\n",
        "\n",
        "  population = create_population(pop_size)\n",
        "\n",
        "  for generation in range(epochs+1):\n",
        "\n",
        "    population = compute_fitness(population)\n",
        "\n",
        "    chr, fit = population[0]\n",
        "    _, worst = population[-1]\n",
        "    n = get_phenotype(chr)\n",
        "    y.append(fit)\n",
        "    x.append(generation)\n",
        "\n",
        "    R = 0.0\n",
        "    env2 = wrap_env(gym.make('CartPole-v0'))\n",
        "    obs = env2.reset()\n",
        "    while True:\n",
        "      action = n.forward(obs)\n",
        "      obs, reward, done, info = env2.step(action)\n",
        "      env2.render()\n",
        "      R += reward\n",
        "      if done:\n",
        "        break\n",
        "    env2.close()\n",
        "\n",
        "    clear_output()\n",
        "    print('Geração', generation, ', melhor:', fit, ', pior', worst, ', R:', R)\n",
        "  \n",
        "    show_video()\n",
        "      \n",
        "    plt.plot(x, y)\n",
        "    plt.show()\n",
        "\n",
        "    elite = population[:elite_size]\n",
        "    population = new_generation(population, pop_size - elite_size,\\\n",
        "                                mutation_rate) + elite\n",
        "  return n, x, y"
      ],
      "execution_count": 15,
      "outputs": []
    },
    {
      "cell_type": "code",
      "metadata": {
        "colab": {
          "base_uri": "https://localhost:8080/",
          "height": 686
        },
        "id": "M0ShhusPp6Xv",
        "outputId": "93b28a02-9ad0-493d-aa36-42ac21d12661"
      },
      "source": [
        "n, x, y = genalg(50, 3, 40, 0.03)"
      ],
      "execution_count": 18,
      "outputs": [
        {
          "output_type": "stream",
          "text": [
            "Geração 40 , melhor: 1.02 , pior 1.0009 , R: 200.0\n"
          ],
          "name": "stdout"
        },
        {
          "output_type": "display_data",
          "data": {
            "text/html": [
              "<video alt=\"test\" autoplay \n",
              "                loop controls style=\"height: 400px;\">\n",
              "                <source src=\"data:video/mp4;base64,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\" type=\"video/mp4\" />\n",
              "             </video>"
            ],
            "text/plain": [
              "<IPython.core.display.HTML object>"
            ]
          },
          "metadata": {
            "tags": []
          }
        },
        {
          "output_type": "display_data",
          "data": {
            "image/png": "[encoded data removed]",
            "text/plain": [
              "<Figure size 432x288 with 1 Axes>"
            ]
          },
          "metadata": {
            "tags": [],
            "needs_background": "light"
          }
        }
      ]
    },
    {
      "cell_type": "markdown",
      "metadata": {
        "id": "ZKOlKs1D_FKY"
      },
      "source": [
        "## Avaliação\n",
        "\n",
        "Para concluir com sucesso este exercício com avaliação 100%, seu algoritmo deve  gerar uma rede neural capaz de controlar o pêngulo gerando uma soma total de reforços R=1.02. Se você conseguir menos que 1.01 < R < 1.02 sua nota será reduzida para 70%, e se conseguir 0.5 < R < 1.0 sua nota será 50%. Se R < 0.5 ou se o código não executar, sua nota será nula para este exercício."
      ]
    }
  ]
}